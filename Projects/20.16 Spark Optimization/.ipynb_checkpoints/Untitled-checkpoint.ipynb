{
 "cells": [
  {
   "cell_type": "code",
   "execution_count": 1,
   "id": "10274670",
   "metadata": {},
   "outputs": [
    {
     "name": "stderr",
     "output_type": "stream",
     "text": [
      "Using Spark's default log4j profile: org/apache/spark/log4j-defaults.properties\n",
      "Setting default log level to \"WARN\".\n",
      "To adjust logging level use sc.setLogLevel(newLevel). For SparkR, use setLogLevel(newLevel).\n",
      "22/07/13 15:38:06 WARN NativeCodeLoader: Unable to load native-hadoop library for your platform... using builtin-java classes where applicable\n",
      "                                                                                \r"
     ]
    }
   ],
   "source": [
    "import pyspark\n",
    "from pyspark.sql import SparkSession\n",
    "#import broadcast\n",
    "from pyspark.sql.functions import count, month, broadcast\n",
    "import os\n",
    "\n",
    "\n",
    "spark = SparkSession.builder.appName('Optimize I').getOrCreate()\n",
    "\n",
    "#partition management\n",
    "spark.conf.set(\"spark.sql.shuffle.partitions\", 4)\n",
    "\n",
    "base_path = os.getcwd()\n",
    "\n",
    "#wrong path used updated to correct path\n",
    "answers_input_path = 'data/answers'\n",
    "\n",
    "questions_input_path = 'data/questions'\n",
    "\n",
    "#cache the data frames in case they're used multiple times\n",
    "answersDF = spark.read.option('path', answers_input_path).load().cache()\n",
    "\n",
    "questionsDF = spark.read.option('path', questions_input_path).load().cache()"
   ]
  },
  {
   "cell_type": "code",
   "execution_count": 2,
   "id": "86994d51",
   "metadata": {},
   "outputs": [
    {
     "name": "stderr",
     "output_type": "stream",
     "text": [
      "[Stage 4:>                                                          (0 + 4) / 4]\r"
     ]
    },
    {
     "name": "stdout",
     "output_type": "stream",
     "text": [
      "+-----------+--------------------+--------------------+-----+---+\n",
      "|question_id|       creation_date|               title|month|cnt|\n",
      "+-----------+--------------------+--------------------+-----+---+\n",
      "|     155989|2014-12-31 19:59:...|Frost bubble form...|    2|  1|\n",
      "|     155989|2014-12-31 19:59:...|Frost bubble form...|   12|  1|\n",
      "|     155990|2014-12-31 20:51:...|The abstract spac...|    1|  2|\n",
      "|     155992|2014-12-31 21:44:...|centrifugal force...|    1|  1|\n",
      "|     155993|2014-12-31 21:56:...|How can I estimat...|    1|  1|\n",
      "|     155995|2014-12-31 23:16:...|Why should a solu...|    1|  3|\n",
      "|     155996|2015-01-01 00:06:...|Why do we assume ...|    1|  2|\n",
      "|     155996|2015-01-01 00:06:...|Why do we assume ...|    2|  1|\n",
      "|     155996|2015-01-01 00:06:...|Why do we assume ...|   11|  1|\n",
      "|     155997|2015-01-01 00:26:...|Why do square sha...|    1|  3|\n",
      "|     155999|2015-01-01 01:01:...|Diagonalizability...|    1|  1|\n",
      "|     156008|2015-01-01 02:48:...|Capturing a light...|    1|  2|\n",
      "|     156008|2015-01-01 02:48:...|Capturing a light...|   11|  1|\n",
      "|     156016|2015-01-01 04:31:...|The interference ...|    1|  1|\n",
      "|     156020|2015-01-01 05:19:...|What is going on ...|    1|  1|\n",
      "|     156021|2015-01-01 05:21:...|How to calculate ...|    2|  1|\n",
      "|     156022|2015-01-01 05:55:...|Advice on Major S...|    1|  1|\n",
      "|     156025|2015-01-01 06:32:...|Deriving the Cano...|    1|  1|\n",
      "|     156026|2015-01-01 06:49:...|Does Bell's inequ...|    1|  3|\n",
      "|     156027|2015-01-01 06:49:...|Deriving X atom f...|    1|  1|\n",
      "+-----------+--------------------+--------------------+-----+---+\n",
      "only showing top 20 rows\n",
      "\n"
     ]
    },
    {
     "name": "stderr",
     "output_type": "stream",
     "text": [
      "\r",
      "                                                                                \r"
     ]
    }
   ],
   "source": [
    "answers_month = answersDF.withColumn('month', month('creation_date')).groupBy('question_id', 'month').agg(count('*').alias('cnt')).cache()\n",
    "\n",
    "#broadcast the smaller DF to the bigger one\n",
    "resultDF = questionsDF.join(broadcast(answers_month), 'question_id').select('question_id', 'creation_date', 'title', 'month', 'cnt')\n",
    "\n",
    "resultDF.orderBy('question_id', 'month').show()"
   ]
  },
  {
   "cell_type": "code",
   "execution_count": null,
   "id": "de44ee17",
   "metadata": {},
   "outputs": [],
   "source": []
  }
 ],
 "metadata": {
  "kernelspec": {
   "display_name": "Python 3 (ipykernel)",
   "language": "python",
   "name": "python3"
  },
  "language_info": {
   "codemirror_mode": {
    "name": "ipython",
    "version": 3
   },
   "file_extension": ".py",
   "mimetype": "text/x-python",
   "name": "python",
   "nbconvert_exporter": "python",
   "pygments_lexer": "ipython3",
   "version": "3.9.7"
  }
 },
 "nbformat": 4,
 "nbformat_minor": 5
}
