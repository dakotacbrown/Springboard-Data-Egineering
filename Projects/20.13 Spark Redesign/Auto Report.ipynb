{
 "cells": [
  {
   "cell_type": "code",
   "execution_count": 1,
   "id": "004fda58",
   "metadata": {
    "scrolled": true
   },
   "outputs": [
    {
     "name": "stderr",
     "output_type": "stream",
     "text": [
      "Using Spark's default log4j profile: org/apache/spark/log4j-defaults.properties\n",
      "Setting default log level to \"WARN\".\n",
      "To adjust logging level use sc.setLogLevel(newLevel). For SparkR, use setLogLevel(newLevel).\n",
      "22/07/13 18:10:39 WARN NativeCodeLoader: Unable to load native-hadoop library for your platform... using builtin-java classes where applicable\n"
     ]
    }
   ],
   "source": [
    "import pyspark\n",
    "from pyspark.sql.types import *\n",
    "from pyspark.sql import SparkSession\n",
    "import pyspark.sql.functions as F\n",
    "\n",
    "spark = SparkSession.builder.appName('Automobile').getOrCreate()\n",
    "\n",
    "#partition management\n",
    "spark.conf.set(\"spark.sql.shuffle.partitions\", 1)"
   ]
  },
  {
   "cell_type": "code",
   "execution_count": 2,
   "id": "3cdf1ff4",
   "metadata": {},
   "outputs": [
    {
     "name": "stderr",
     "output_type": "stream",
     "text": [
      "                                                                                \r"
     ]
    },
    {
     "name": "stdout",
     "output_type": "stream",
     "text": [
      "+-----------+-------------+-----------------+--------+------+----+-------------+--------------------+\n",
      "|incident_id|incident_type|       vin_number|    make| model|year|incident_date|         description|\n",
      "+-----------+-------------+-----------------+--------+------+----+-------------+--------------------+\n",
      "|          1|            I|VXIO456XLBB630221|  Nissan|Altima|2003|   2002-05-08|Initial sales fro...|\n",
      "|          2|            I|INU45KIOOPA343980|Mercedes|  C300|2015|   2014-01-01|Sold from EuroMotors|\n",
      "|          3|            A|VXIO456XLBB630221|    null|  null|null|   2014-07-02|   Head on collision|\n",
      "|          4|            R|VXIO456XLBB630221|    null|  null|null|   2014-08-05| Repair transmission|\n",
      "|          5|            I|VOME254OOXW344325|Mercedes|  E350|2015|   2014-02-01|    Sold from Carmax|\n",
      "|          6|            R|VOME254OOXW344325|    null|  null|null|   2015-02-06|Wheel allignment ...|\n",
      "|          7|            R|VXIO456XLBB630221|    null|  null|null|   2015-01-01|Replace right hea...|\n",
      "|          8|            I|EXOA00341AB123456|Mercedes| SL550|2016|   2015-01-01|   Sold from AceCars|\n",
      "|          9|            A|VOME254OOXW344325|    null|  null|null|   2015-10-01|      Side collision|\n",
      "|         10|            R|VOME254OOXW344325|    null|  null|null|   2015-09-01|       Changed tires|\n",
      "|         11|            R|EXOA00341AB123456|    null|  null|null|   2015-05-01|       Repair engine|\n",
      "|         12|            A|EXOA00341AB123456|    null|  null|null|   2015-05-03|    Vehicle rollover|\n",
      "|         13|            R|VOME254OOXW344325|    null|  null|null|   2015-09-01|Replace passenger...|\n",
      "|         14|            I|UXIA769ABCC447906|  Toyota|Camery|2017|   2016-05-08|Initial sales fro...|\n",
      "|         15|            R|UXIA769ABCC447906|    null|  null|null|   2020-01-02|Initial sales fro...|\n",
      "|         16|            A|INU45KIOOPA343980|    null|  null|null|   2020-05-01|      Side collision|\n",
      "+-----------+-------------+-----------------+--------+------+----+-------------+--------------------+\n",
      "\n"
     ]
    }
   ],
   "source": [
    "#create the schema\n",
    "schema = StructType([\n",
    "    StructField('incident_id', IntegerType(), True),\n",
    "    StructField('incident_type', StringType(), True),\n",
    "    StructField('vin_number', StringType(), True),\n",
    "    StructField('make', StringType(), True),\n",
    "    StructField('model', StringType(), True),\n",
    "    StructField('year', StringType(), True),\n",
    "    StructField('incident_date', DateType(), True),\n",
    "    StructField('description', StringType(), True),\n",
    "])\n",
    "\n",
    "#read in the file\n",
    "auto = spark.read.format('csv').options(delimiter=',', header=False).load('data/auto.csv', schema=schema)\n",
    "auto.cache()\n",
    "auto.show()"
   ]
  },
  {
   "cell_type": "code",
   "execution_count": 3,
   "id": "8b700a7c",
   "metadata": {
    "scrolled": true
   },
   "outputs": [
    {
     "name": "stdout",
     "output_type": "stream",
     "text": [
      "+-----------------+--------+----+\n",
      "|       vin_number|    make|year|\n",
      "+-----------------+--------+----+\n",
      "|VXIO456XLBB630221|  Nissan|2003|\n",
      "|INU45KIOOPA343980|Mercedes|2015|\n",
      "|VOME254OOXW344325|Mercedes|2015|\n",
      "|EXOA00341AB123456|Mercedes|2016|\n",
      "|UXIA769ABCC447906|  Toyota|2017|\n",
      "+-----------------+--------+----+\n",
      "\n"
     ]
    }
   ],
   "source": [
    "#filter the incidents\n",
    "incidents_filtered = auto.select('vin_number', 'make', 'year').where(F.col('incident_type') == 'I')\n",
    "incidents_filtered.show()"
   ]
  },
  {
   "cell_type": "code",
   "execution_count": 4,
   "id": "545e3538",
   "metadata": {
    "scrolled": true
   },
   "outputs": [
    {
     "name": "stdout",
     "output_type": "stream",
     "text": [
      "+-----------------+-------------+-----------------+\n",
      "|       vin_number|incident_date|      description|\n",
      "+-----------------+-------------+-----------------+\n",
      "|VXIO456XLBB630221|   2014-07-02|Head on collision|\n",
      "|VOME254OOXW344325|   2015-10-01|   Side collision|\n",
      "|EXOA00341AB123456|   2015-05-03| Vehicle rollover|\n",
      "|INU45KIOOPA343980|   2020-05-01|   Side collision|\n",
      "+-----------------+-------------+-----------------+\n",
      "\n"
     ]
    }
   ],
   "source": [
    "#filter the accidents\n",
    "accidents_filtered = auto.select('vin_number', 'incident_date', 'description').where(F.col('incident_type') == 'A')\n",
    "accidents_filtered.show()"
   ]
  },
  {
   "cell_type": "code",
   "execution_count": 5,
   "id": "4e858a6a",
   "metadata": {
    "scrolled": false
   },
   "outputs": [
    {
     "name": "stdout",
     "output_type": "stream",
     "text": [
      "+-----------------+--------+----+-------------+-----------------+\n",
      "|       vin_number|    make|year|incident_date|      description|\n",
      "+-----------------+--------+----+-------------+-----------------+\n",
      "|VXIO456XLBB630221|  Nissan|2003|   2014-07-02|Head on collision|\n",
      "|INU45KIOOPA343980|Mercedes|2015|   2020-05-01|   Side collision|\n",
      "|VOME254OOXW344325|Mercedes|2015|   2015-10-01|   Side collision|\n",
      "|EXOA00341AB123456|Mercedes|2016|   2015-05-03| Vehicle rollover|\n",
      "+-----------------+--------+----+-------------+-----------------+\n",
      "\n"
     ]
    }
   ],
   "source": [
    "#combine the tables\n",
    "joinedDF = incidents_filtered.join(F.broadcast(accidents_filtered), 'vin_number').select('*')\n",
    "joinedDF.show()"
   ]
  },
  {
   "cell_type": "code",
   "execution_count": 6,
   "id": "2bffe720",
   "metadata": {
    "scrolled": true
   },
   "outputs": [
    {
     "name": "stdout",
     "output_type": "stream",
     "text": [
      "+--------+----+---------+\n",
      "|    make|year|total_num|\n",
      "+--------+----+---------+\n",
      "|  Nissan|2003|        1|\n",
      "|Mercedes|2015|        2|\n",
      "|Mercedes|2016|        1|\n",
      "+--------+----+---------+\n",
      "\n"
     ]
    }
   ],
   "source": [
    "#get the results\n",
    "result = joinedDF.select('make', 'year').groupBy('make', 'year').agg(F.count('*').alias('total_num'))\n",
    "result.show()"
   ]
  },
  {
   "cell_type": "code",
   "execution_count": 8,
   "id": "57d6fba1",
   "metadata": {},
   "outputs": [],
   "source": [
    "#save results to folder\n",
    "result.write.mode('overwrite').option(\"header\", \"true\").format('csv').save(\"output/\")"
   ]
  },
  {
   "cell_type": "code",
   "execution_count": null,
   "id": "d154e05d",
   "metadata": {},
   "outputs": [],
   "source": []
  }
 ],
 "metadata": {
  "kernelspec": {
   "display_name": "Python 3 (ipykernel)",
   "language": "python",
   "name": "python3"
  },
  "language_info": {
   "codemirror_mode": {
    "name": "ipython",
    "version": 3
   },
   "file_extension": ".py",
   "mimetype": "text/x-python",
   "name": "python",
   "nbconvert_exporter": "python",
   "pygments_lexer": "ipython3",
   "version": "3.9.7"
  }
 },
 "nbformat": 4,
 "nbformat_minor": 5
}
